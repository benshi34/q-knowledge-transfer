{
 "cells": [
  {
   "cell_type": "code",
   "execution_count": 7,
   "metadata": {},
   "outputs": [
    {
     "name": "stdout",
     "output_type": "stream",
     "text": [
      "ELO scores have been added to the problem dictionary.\n"
     ]
    }
   ],
   "source": [
    "import json\n",
    "\n",
    "# Read the ELO scores file\n",
    "with open('src/leetcode_elos.json', 'r') as f:\n",
    "    elo_data = json.load(f)\n",
    "\n",
    "# Read the problem dictionary file\n",
    "with open('src/leetcode_problem_dict_v2_v5.json', 'r') as f:\n",
    "    problem_data = json.load(f)\n",
    "\n",
    "# Add ELO scores to problem data\n",
    "for problem in elo_data:\n",
    "    # Get the TitleSlug from the problem info\n",
    "    title_slug = problem['TitleSlug']\n",
    "    \n",
    "    # Look for matching ELO score\n",
    "    if title_slug in problem_data:\n",
    "        problem_data[title_slug]['elo'] = problem['Rating']\n",
    "\n",
    "for problem in problem_data:\n",
    "    if problem_data[problem]['elo'] is None:\n",
    "        print(\"ERROR: No ELO score found for problem:\", problem['id'])\n",
    "\n",
    "# Write the updated problem dictionary back to file\n",
    "with open('src/leetcode_problem_dict_standardized_with_elo.json', 'w') as f:\n",
    "    json.dump(problem_data, f, indent=2)\n",
    "\n",
    "print(\"ELO scores have been added to the problem dictionary.\")"
   ]
  }
 ],
 "metadata": {
  "kernelspec": {
   "display_name": "Python 3",
   "language": "python",
   "name": "python3"
  },
  "language_info": {
   "codemirror_mode": {
    "name": "ipython",
    "version": 3
   },
   "file_extension": ".py",
   "mimetype": "text/x-python",
   "name": "python",
   "nbconvert_exporter": "python",
   "pygments_lexer": "ipython3",
   "version": "3.11.6"
  }
 },
 "nbformat": 4,
 "nbformat_minor": 2
}
